{
 "cells": [
  {
   "cell_type": "code",
   "execution_count": 2,
   "metadata": {},
   "outputs": [
    {
     "name": "stdout",
     "output_type": "stream",
     "text": [
      "2.4.1\n"
     ]
    }
   ],
   "source": [
    "# imports\n",
    "from __future__ import absolute_import, division, print_function\n",
    "import pathlib\n",
    "import pandas as pd\n",
    "import matplotlib.pyplot as plt\n",
    "try:\n",
    "    import seaborn as sns\n",
    "except:\n",
    "    !pip install seaborn\n",
    "    import seaborn as sns\n",
    "# if the line below doesn't work in jupyter\n",
    "# launch it with admin priviledges\n",
    "# or just use a preprepared venv\n",
    "try:\n",
    "    import tensorflow as tf\n",
    "    from tensorflow import keras\n",
    "    from tensorflow.keras import layers\n",
    "except:\n",
    "    !pip install tensorflow\n",
    "    import tensorflow as ts\n",
    "    from tensorflow import keras\n",
    "    from tensorflow.keras import layers\n",
    "\n",
    "print(tf.__version__)"
   ]
  },
  {
   "cell_type": "code",
   "execution_count": 3,
   "metadata": {
    "scrolled": true
   },
   "outputs": [
    {
     "name": "stdout",
     "output_type": "stream",
     "text": [
      "191786\n"
     ]
    }
   ],
   "source": [
    "# read the data\n",
    "dataset = pd.read_csv(\"sortedDataTop1.csv\")\n",
    "dataset_copy = dataset.copy()\n",
    "# split it into 2 pieces - train and test, test being 80% of all\n",
    "train_dataset = dataset_copy.sample(frac=0.8, random_state=0)\n",
    "test_dataset = dataset_copy.drop(train_dataset.index)\n",
    "print(len(train_dataset.index))\n",
    "# print(len(test_dataset.index))"
   ]
  },
  {
   "cell_type": "code",
   "execution_count": 4,
   "metadata": {
    "scrolled": false
   },
   "outputs": [
    {
     "data": {
      "text/html": [
       "<div>\n",
       "<style scoped>\n",
       "    .dataframe tbody tr th:only-of-type {\n",
       "        vertical-align: middle;\n",
       "    }\n",
       "\n",
       "    .dataframe tbody tr th {\n",
       "        vertical-align: top;\n",
       "    }\n",
       "\n",
       "    .dataframe thead th {\n",
       "        text-align: right;\n",
       "    }\n",
       "</style>\n",
       "<table border=\"1\" class=\"dataframe\">\n",
       "  <thead>\n",
       "    <tr style=\"text-align: right;\">\n",
       "      <th></th>\n",
       "      <th>Proportional</th>\n",
       "      <th>Integral</th>\n",
       "      <th>Derivative</th>\n",
       "    </tr>\n",
       "  </thead>\n",
       "  <tbody>\n",
       "    <tr>\n",
       "      <th>137613</th>\n",
       "      <td>4.0</td>\n",
       "      <td>0.3</td>\n",
       "      <td>2.4</td>\n",
       "    </tr>\n",
       "    <tr>\n",
       "      <th>119939</th>\n",
       "      <td>16.0</td>\n",
       "      <td>1.3</td>\n",
       "      <td>0.4</td>\n",
       "    </tr>\n",
       "    <tr>\n",
       "      <th>77665</th>\n",
       "      <td>14.0</td>\n",
       "      <td>1.5</td>\n",
       "      <td>0.4</td>\n",
       "    </tr>\n",
       "    <tr>\n",
       "      <th>72519</th>\n",
       "      <td>6.0</td>\n",
       "      <td>0.5</td>\n",
       "      <td>1.2</td>\n",
       "    </tr>\n",
       "    <tr>\n",
       "      <th>221327</th>\n",
       "      <td>9.0</td>\n",
       "      <td>0.1</td>\n",
       "      <td>1.2</td>\n",
       "    </tr>\n",
       "    <tr>\n",
       "      <th>...</th>\n",
       "      <td>...</td>\n",
       "      <td>...</td>\n",
       "      <td>...</td>\n",
       "    </tr>\n",
       "    <tr>\n",
       "      <th>197778</th>\n",
       "      <td>10.0</td>\n",
       "      <td>0.5</td>\n",
       "      <td>0.8</td>\n",
       "    </tr>\n",
       "    <tr>\n",
       "      <th>15299</th>\n",
       "      <td>7.0</td>\n",
       "      <td>0.7</td>\n",
       "      <td>0.4</td>\n",
       "    </tr>\n",
       "    <tr>\n",
       "      <th>166731</th>\n",
       "      <td>13.0</td>\n",
       "      <td>0.7</td>\n",
       "      <td>0.4</td>\n",
       "    </tr>\n",
       "    <tr>\n",
       "      <th>55301</th>\n",
       "      <td>15.0</td>\n",
       "      <td>1.5</td>\n",
       "      <td>0.4</td>\n",
       "    </tr>\n",
       "    <tr>\n",
       "      <th>125050</th>\n",
       "      <td>15.0</td>\n",
       "      <td>0.9</td>\n",
       "      <td>0.4</td>\n",
       "    </tr>\n",
       "  </tbody>\n",
       "</table>\n",
       "<p>191786 rows × 3 columns</p>\n",
       "</div>"
      ],
      "text/plain": [
       "        Proportional  Integral  Derivative\n",
       "137613           4.0       0.3         2.4\n",
       "119939          16.0       1.3         0.4\n",
       "77665           14.0       1.5         0.4\n",
       "72519            6.0       0.5         1.2\n",
       "221327           9.0       0.1         1.2\n",
       "...              ...       ...         ...\n",
       "197778          10.0       0.5         0.8\n",
       "15299            7.0       0.7         0.4\n",
       "166731          13.0       0.7         0.4\n",
       "55301           15.0       1.5         0.4\n",
       "125050          15.0       0.9         0.4\n",
       "\n",
       "[191786 rows x 3 columns]"
      ]
     },
     "execution_count": 4,
     "metadata": {},
     "output_type": "execute_result"
    }
   ],
   "source": [
    "# not sure the reason for the code below, it doesn't work as intended\n",
    "# split features from labels\n",
    "# warning: run below code only once\n",
    "# it throws KeyError if argument is already popped\n",
    "\n",
    "if True:\n",
    "    train_labels_prop = train_dataset.pop(\"Proportional\")\n",
    "    train_labels_int = train_dataset.pop(\"Integral\")\n",
    "    train_labels_der = train_dataset.pop(\"Derivative\")\n",
    "    data_train = {\n",
    "        'Proportional': train_labels_prop,\n",
    "        'Integral': train_labels_int,\n",
    "        'Derivative': train_labels_der\n",
    "    }\n",
    "    train_labels = pd.DataFrame(data_train)\n",
    "    # same for test\n",
    "    test_labels_prop = test_dataset.pop(\"Proportional\")\n",
    "    test_labels_int = test_dataset.pop(\"Integral\")\n",
    "    test_labels_der = test_dataset.pop(\"Derivative\")\n",
    "    data_test = {\n",
    "        'Proportional': test_labels_prop,\n",
    "        'Integral': test_labels_int,\n",
    "        'Derivative': test_labels_der\n",
    "    }\n",
    "    test_labels = pd.DataFrame(data_test)\n",
    "\n",
    "train_labels\n",
    "# test_labels"
   ]
  },
  {
   "cell_type": "code",
   "execution_count": 5,
   "metadata": {},
   "outputs": [
    {
     "name": "stdout",
     "output_type": "stream",
     "text": [
      "Train stats:\n"
     ]
    },
    {
     "data": {
      "text/html": [
       "<div>\n",
       "<style scoped>\n",
       "    .dataframe tbody tr th:only-of-type {\n",
       "        vertical-align: middle;\n",
       "    }\n",
       "\n",
       "    .dataframe tbody tr th {\n",
       "        vertical-align: top;\n",
       "    }\n",
       "\n",
       "    .dataframe thead th {\n",
       "        text-align: right;\n",
       "    }\n",
       "</style>\n",
       "<table border=\"1\" class=\"dataframe\">\n",
       "  <thead>\n",
       "    <tr style=\"text-align: right;\">\n",
       "      <th></th>\n",
       "      <th>count</th>\n",
       "      <th>mean</th>\n",
       "      <th>std</th>\n",
       "      <th>min</th>\n",
       "      <th>25%</th>\n",
       "      <th>50%</th>\n",
       "      <th>75%</th>\n",
       "      <th>max</th>\n",
       "    </tr>\n",
       "  </thead>\n",
       "  <tbody>\n",
       "    <tr>\n",
       "      <th>Area</th>\n",
       "      <td>191786.0</td>\n",
       "      <td>15.926381</td>\n",
       "      <td>3.693254</td>\n",
       "      <td>1.0</td>\n",
       "      <td>14.0</td>\n",
       "      <td>17.0</td>\n",
       "      <td>19.0</td>\n",
       "      <td>20.0</td>\n",
       "    </tr>\n",
       "    <tr>\n",
       "      <th>Beta</th>\n",
       "      <td>191786.0</td>\n",
       "      <td>6.080413</td>\n",
       "      <td>2.660454</td>\n",
       "      <td>0.0</td>\n",
       "      <td>4.0</td>\n",
       "      <td>6.5</td>\n",
       "      <td>8.5</td>\n",
       "      <td>9.5</td>\n",
       "    </tr>\n",
       "    <tr>\n",
       "      <th>Tp</th>\n",
       "      <td>191786.0</td>\n",
       "      <td>0.549178</td>\n",
       "      <td>0.274814</td>\n",
       "      <td>0.1</td>\n",
       "      <td>0.3</td>\n",
       "      <td>0.5</td>\n",
       "      <td>0.8</td>\n",
       "      <td>1.0</td>\n",
       "    </tr>\n",
       "  </tbody>\n",
       "</table>\n",
       "</div>"
      ],
      "text/plain": [
       "         count       mean       std  min   25%   50%   75%   max\n",
       "Area  191786.0  15.926381  3.693254  1.0  14.0  17.0  19.0  20.0\n",
       "Beta  191786.0   6.080413  2.660454  0.0   4.0   6.5   8.5   9.5\n",
       "Tp    191786.0   0.549178  0.274814  0.1   0.3   0.5   0.8   1.0"
      ]
     },
     "execution_count": 5,
     "metadata": {},
     "output_type": "execute_result"
    }
   ],
   "source": [
    "# some statistics about the values\n",
    "# sns.pairplot(dataset)\n",
    "train_stats = train_dataset.describe()\n",
    "train_stats = train_stats.transpose()\n",
    "print(\"Train stats:\")\n",
    "train_stats"
   ]
  },
  {
   "cell_type": "code",
   "execution_count": 10,
   "metadata": {},
   "outputs": [
    {
     "data": {
      "text/html": [
       "<div>\n",
       "<style scoped>\n",
       "    .dataframe tbody tr th:only-of-type {\n",
       "        vertical-align: middle;\n",
       "    }\n",
       "\n",
       "    .dataframe tbody tr th {\n",
       "        vertical-align: top;\n",
       "    }\n",
       "\n",
       "    .dataframe thead th {\n",
       "        text-align: right;\n",
       "    }\n",
       "</style>\n",
       "<table border=\"1\" class=\"dataframe\">\n",
       "  <thead>\n",
       "    <tr style=\"text-align: right;\">\n",
       "      <th></th>\n",
       "      <th>Area</th>\n",
       "      <th>Beta</th>\n",
       "      <th>Tp</th>\n",
       "    </tr>\n",
       "  </thead>\n",
       "  <tbody>\n",
       "    <tr>\n",
       "      <th>137613</th>\n",
       "      <td>0.290697</td>\n",
       "      <td>1.285340</td>\n",
       "      <td>1.276579</td>\n",
       "    </tr>\n",
       "    <tr>\n",
       "      <th>119939</th>\n",
       "      <td>0.290697</td>\n",
       "      <td>-0.406101</td>\n",
       "      <td>-0.542831</td>\n",
       "    </tr>\n",
       "    <tr>\n",
       "      <th>77665</th>\n",
       "      <td>-0.250831</td>\n",
       "      <td>-0.218163</td>\n",
       "      <td>-0.178949</td>\n",
       "    </tr>\n",
       "    <tr>\n",
       "      <th>72519</th>\n",
       "      <td>-0.250831</td>\n",
       "      <td>-1.533728</td>\n",
       "      <td>1.640461</td>\n",
       "    </tr>\n",
       "    <tr>\n",
       "      <th>221327</th>\n",
       "      <td>1.102989</td>\n",
       "      <td>0.345651</td>\n",
       "      <td>-0.542831</td>\n",
       "    </tr>\n",
       "    <tr>\n",
       "      <th>...</th>\n",
       "      <td>...</td>\n",
       "      <td>...</td>\n",
       "      <td>...</td>\n",
       "    </tr>\n",
       "    <tr>\n",
       "      <th>197778</th>\n",
       "      <td>0.832225</td>\n",
       "      <td>1.097402</td>\n",
       "      <td>1.276579</td>\n",
       "    </tr>\n",
       "    <tr>\n",
       "      <th>15299</th>\n",
       "      <td>-1.875414</td>\n",
       "      <td>1.097402</td>\n",
       "      <td>-0.178949</td>\n",
       "    </tr>\n",
       "    <tr>\n",
       "      <th>166731</th>\n",
       "      <td>0.561461</td>\n",
       "      <td>1.285340</td>\n",
       "      <td>0.548815</td>\n",
       "    </tr>\n",
       "    <tr>\n",
       "      <th>55301</th>\n",
       "      <td>-0.521595</td>\n",
       "      <td>-1.721666</td>\n",
       "      <td>0.912697</td>\n",
       "    </tr>\n",
       "    <tr>\n",
       "      <th>125050</th>\n",
       "      <td>0.290697</td>\n",
       "      <td>0.345651</td>\n",
       "      <td>-1.634476</td>\n",
       "    </tr>\n",
       "  </tbody>\n",
       "</table>\n",
       "<p>191786 rows × 3 columns</p>\n",
       "</div>"
      ],
      "text/plain": [
       "            Area      Beta        Tp\n",
       "137613  0.290697  1.285340  1.276579\n",
       "119939  0.290697 -0.406101 -0.542831\n",
       "77665  -0.250831 -0.218163 -0.178949\n",
       "72519  -0.250831 -1.533728  1.640461\n",
       "221327  1.102989  0.345651 -0.542831\n",
       "...          ...       ...       ...\n",
       "197778  0.832225  1.097402  1.276579\n",
       "15299  -1.875414  1.097402 -0.178949\n",
       "166731  0.561461  1.285340  0.548815\n",
       "55301  -0.521595 -1.721666  0.912697\n",
       "125050  0.290697  0.345651 -1.634476\n",
       "\n",
       "[191786 rows x 3 columns]"
      ]
     },
     "execution_count": 10,
     "metadata": {},
     "output_type": "execute_result"
    }
   ],
   "source": [
    "# normalize the data\n",
    "# here we have 3 columns in x but 6 columns in train stats so we get 3 NaNs\n",
    "# changed command order to fix it, but previously it was [statistics block] -> [pop labels block]\n",
    "def norm(x):\n",
    "    return (x - train_stats['mean']) / train_stats['std']\n",
    "normed_train_dataset = norm(train_dataset)\n",
    "normed_test_dataset = norm(test_dataset)\n",
    "# normed_train_dataset = train_dataset.copy()\n",
    "# normed_test_dataset = test_dataset.copy()\n",
    "normed_train_dataset"
   ]
  },
  {
   "cell_type": "code",
   "execution_count": 7,
   "metadata": {},
   "outputs": [
    {
     "data": {
      "text/html": [
       "<div>\n",
       "<style scoped>\n",
       "    .dataframe tbody tr th:only-of-type {\n",
       "        vertical-align: middle;\n",
       "    }\n",
       "\n",
       "    .dataframe tbody tr th {\n",
       "        vertical-align: top;\n",
       "    }\n",
       "\n",
       "    .dataframe thead th {\n",
       "        text-align: right;\n",
       "    }\n",
       "</style>\n",
       "<table border=\"1\" class=\"dataframe\">\n",
       "  <thead>\n",
       "    <tr style=\"text-align: right;\">\n",
       "      <th></th>\n",
       "      <th>count</th>\n",
       "      <th>mean</th>\n",
       "      <th>std</th>\n",
       "      <th>min</th>\n",
       "      <th>25%</th>\n",
       "      <th>50%</th>\n",
       "      <th>75%</th>\n",
       "      <th>max</th>\n",
       "    </tr>\n",
       "  </thead>\n",
       "  <tbody>\n",
       "    <tr>\n",
       "      <th>Area</th>\n",
       "      <td>191786.0</td>\n",
       "      <td>15.926381</td>\n",
       "      <td>3.693254</td>\n",
       "      <td>1.0</td>\n",
       "      <td>14.0</td>\n",
       "      <td>17.0</td>\n",
       "      <td>19.0</td>\n",
       "      <td>20.0</td>\n",
       "    </tr>\n",
       "    <tr>\n",
       "      <th>Beta</th>\n",
       "      <td>191786.0</td>\n",
       "      <td>6.080413</td>\n",
       "      <td>2.660454</td>\n",
       "      <td>0.0</td>\n",
       "      <td>4.0</td>\n",
       "      <td>6.5</td>\n",
       "      <td>8.5</td>\n",
       "      <td>9.5</td>\n",
       "    </tr>\n",
       "    <tr>\n",
       "      <th>Tp</th>\n",
       "      <td>191786.0</td>\n",
       "      <td>0.549178</td>\n",
       "      <td>0.274814</td>\n",
       "      <td>0.1</td>\n",
       "      <td>0.3</td>\n",
       "      <td>0.5</td>\n",
       "      <td>0.8</td>\n",
       "      <td>1.0</td>\n",
       "    </tr>\n",
       "  </tbody>\n",
       "</table>\n",
       "</div>"
      ],
      "text/plain": [
       "         count       mean       std  min   25%   50%   75%   max\n",
       "Area  191786.0  15.926381  3.693254  1.0  14.0  17.0  19.0  20.0\n",
       "Beta  191786.0   6.080413  2.660454  0.0   4.0   6.5   8.5   9.5\n",
       "Tp    191786.0   0.549178  0.274814  0.1   0.3   0.5   0.8   1.0"
      ]
     },
     "execution_count": 7,
     "metadata": {},
     "output_type": "execute_result"
    }
   ],
   "source": [
    "# save the stats from above for denormalization in later use\n",
    "stats_dir = 'D:\\\\Dev\\\\PyCharmProjects\\\\ISSlab1\\\\programs\\\\'\n",
    "file_stats = open(str(stats_dir) + \"MLPID_stats.txt\", \"w\")\n",
    "# save the mean\n",
    "# file_stats.write(\"train_stats['mean'])\\n\")\n",
    "sentence = \"\".join(str(train_stats['mean']) + \"\\n\")\n",
    "file_stats.write(sentence)\n",
    "# save the sigma\n",
    "# file_stats.write(\"train_stats['std'])\\n\")\n",
    "sentence = \"\".join(str(train_stats['std']) + \"\\n\")\n",
    "file_stats.write(sentence)\n",
    "# finish\n",
    "file_stats.close()\n",
    "train_stats"
   ]
  },
  {
   "cell_type": "code",
   "execution_count": 33,
   "metadata": {},
   "outputs": [],
   "source": [
    "# the fun part: building a model!\n",
    "# we need 3 inputs and 3 outputs\n",
    "\n",
    "def build_model():\n",
    "    model = keras.Sequential([\n",
    "        # 3 input layers, relu function, that is passed to another input like it and then to output layer\n",
    "        layers.Dense(3, input_dim=3),\n",
    "        # this layer below might be useless, to be checked\n",
    "        layers.Dense(12),\n",
    "        layers.Dense(3)\n",
    "    ])\n",
    "    # optimizer: RMS\n",
    "    # optimizer = tf.keras.optimizers.RMSprop(0.001)\n",
    "    # alternative opt: adam\n",
    "    optimizer = 'adam'\n",
    "\n",
    "    # compile the model:\n",
    "    # -loss is mean squared error\n",
    "    # -metrics are mean quared error and mean absolute error\n",
    "    model.compile(loss='mse', optimizer=optimizer, metrics=['mae', 'mse'])\n",
    "    return model\n",
    "model = build_model()"
   ]
  },
  {
   "cell_type": "code",
   "execution_count": 34,
   "metadata": {},
   "outputs": [
    {
     "name": "stdout",
     "output_type": "stream",
     "text": [
      "Model: \"sequential\"\n",
      "_________________________________________________________________\n",
      "Layer (type)                 Output Shape              Param #   \n",
      "=================================================================\n",
      "dense (Dense)                (None, 3)                 12        \n",
      "_________________________________________________________________\n",
      "dense_1 (Dense)              (None, 12)                48        \n",
      "_________________________________________________________________\n",
      "dense_2 (Dense)              (None, 3)                 39        \n",
      "=================================================================\n",
      "Total params: 99\n",
      "Trainable params: 99\n",
      "Non-trainable params: 0\n",
      "_________________________________________________________________\n"
     ]
    }
   ],
   "source": [
    "# get some info about the model\n",
    "model.summary()"
   ]
  },
  {
   "cell_type": "code",
   "execution_count": 35,
   "metadata": {},
   "outputs": [
    {
     "data": {
      "text/plain": [
       "array([[ 8.96571040e-01, -7.01947510e-02, -8.19534481e-01],\n",
       "       [-4.44792032e-01,  6.68465793e-02,  4.59962755e-01],\n",
       "       [-8.01316053e-02,  6.78439625e-04,  4.20601591e-02],\n",
       "       [ 5.56152835e-02, -1.00489044e+00,  2.36883581e-01],\n",
       "       [-3.78391027e-01,  2.76978791e-01,  4.44961339e-01],\n",
       "       [ 2.23919749e-02,  6.78177714e-01, -1.61444634e-01],\n",
       "       [ 4.56559539e-01, -5.83095513e-02, -3.09486866e-01],\n",
       "       [-5.58196604e-02, -1.52657062e-01,  2.66991317e-01],\n",
       "       [ 3.29601318e-01,  2.46028125e-01, -6.41489446e-01],\n",
       "       [-1.46371305e-01,  3.35928202e-01,  1.17097124e-01]], dtype=float32)"
      ]
     },
     "execution_count": 35,
     "metadata": {},
     "output_type": "execute_result"
    }
   ],
   "source": [
    "# check if everythings connected and no errors are given \n",
    "example_batch = normed_train_dataset[:10]\n",
    "example_result = model.predict(example_batch)\n",
    "example_result"
   ]
  },
  {
   "cell_type": "code",
   "execution_count": 36,
   "metadata": {},
   "outputs": [
    {
     "name": "stdout",
     "output_type": "stream",
     "text": [
      "\n",
      "......................\n",
      "Fitting done\n"
     ]
    }
   ],
   "source": [
    "# train the model\n",
    "class PrintDot(keras.callbacks.Callback):\n",
    "    def on_epoch_end(self, epoch, logs):\n",
    "        if epoch % 100 == 0:\n",
    "            print('')\n",
    "        print('.',end='')\n",
    "# number of \n",
    "EPOCHS = 1000\n",
    "\n",
    "# early stop in case we start overfitting\n",
    "early_stop = keras.callbacks.EarlyStopping(monitor='val_loss', patience=10)\n",
    "\n",
    "history = model.fit(\n",
    "    normed_train_dataset, train_labels,\n",
    "    epochs = EPOCHS, validation_split = 0.2, verbose = 0,\n",
    "    callbacks=[early_stop, PrintDot()]\n",
    ")\n",
    "print('\\n' + 'Fitting done')"
   ]
  },
  {
   "cell_type": "code",
   "execution_count": 37,
   "metadata": {},
   "outputs": [
    {
     "data": {
      "text/plain": [
       "<bound method NDFrame.tail of         loss       mae       mse  val_loss   val_mae   val_mse  epoch\n",
       "0   8.313260  1.533536  8.313260  4.913250  1.305595  4.913250      0\n",
       "1   4.929467  1.306795  4.929467  4.913383  1.302307  4.913383      1\n",
       "2   4.928780  1.306544  4.928780  4.937388  1.310885  4.937388      2\n",
       "3   4.930265  1.306853  4.930265  4.924114  1.303249  4.924114      3\n",
       "4   4.928388  1.306430  4.928388  4.916996  1.305311  4.916996      4\n",
       "5   4.928983  1.306694  4.928983  4.910961  1.305241  4.910961      5\n",
       "6   4.930129  1.306796  4.930129  4.921344  1.305002  4.921344      6\n",
       "7   4.927697  1.306593  4.927697  4.919111  1.300327  4.919111      7\n",
       "8   4.928867  1.306627  4.928867  4.915853  1.300828  4.915853      8\n",
       "9   4.928916  1.306631  4.928916  4.933465  1.316278  4.933465      9\n",
       "10  4.927842  1.306451  4.927842  4.915166  1.305562  4.915166     10\n",
       "11  4.928864  1.306741  4.928864  4.908248  1.304640  4.908248     11\n",
       "12  4.928020  1.306508  4.928020  4.947740  1.317713  4.947740     12\n",
       "13  4.926378  1.306332  4.926378  4.951034  1.321997  4.951034     13\n",
       "14  4.928564  1.306724  4.928564  4.912720  1.303177  4.912720     14\n",
       "15  4.927219  1.306734  4.927219  4.919480  1.305609  4.919480     15\n",
       "16  4.927660  1.306304  4.927660  4.913497  1.305175  4.913497     16\n",
       "17  4.927997  1.306750  4.927997  4.913610  1.306776  4.913610     17\n",
       "18  4.927486  1.306508  4.927486  4.915764  1.306197  4.915764     18\n",
       "19  4.928939  1.306755  4.928939  4.922558  1.303110  4.922558     19\n",
       "20  4.926633  1.306362  4.926633  4.945482  1.307467  4.945482     20\n",
       "21  4.928390  1.306709  4.928390  4.912694  1.307730  4.912694     21>"
      ]
     },
     "execution_count": 37,
     "metadata": {},
     "output_type": "execute_result"
    }
   ],
   "source": [
    "# model fit summary\n",
    "hist = pd.DataFrame(history.history)\n",
    "hist['epoch'] = history.epoch\n",
    "hist.tail"
   ]
  },
  {
   "cell_type": "code",
   "execution_count": 38,
   "metadata": {},
   "outputs": [
    {
     "data": {
      "image/png": "[encoded data removed]",
      "text/plain": [
       "<Figure size 432x288 with 1 Axes>"
      ]
     },
     "metadata": {
      "needs_background": "light"
     },
     "output_type": "display_data"
    }
   ],
   "source": [
    "# learning curves\n",
    "def plot_history(history):\n",
    "    hist = pd.DataFrame(history.history)\n",
    "    hist['epoch'] = history.epoch\n",
    "\n",
    "    # plt.figure()\n",
    "    plt.xlabel('Epoch')\n",
    "    plt.ylabel('Mean Abs Error')\n",
    "    plt.plot(hist['epoch'], hist['mae'],\n",
    "           label='Train Error')\n",
    "    plt.plot(hist['epoch'], hist['val_mae'],\n",
    "           label = 'Val Error')\n",
    "    # plt.ylim([0,5])\n",
    "    plt.legend()\n",
    "\n",
    "    # plt.figure()\n",
    "    plt.xlabel('Epoch')\n",
    "    plt.ylabel('Mean Square Error')\n",
    "    plt.plot(hist['epoch'], hist['mse'],\n",
    "           label='Train Error')\n",
    "    plt.plot(hist['epoch'], hist['val_mse'],\n",
    "           label = 'Val Error')\n",
    "    # plt.ylim([0,20])\n",
    "    plt.legend()\n",
    "    plt.show()\n",
    "\n",
    "\n",
    "plot_history(history) "
   ]
  },
  {
   "cell_type": "code",
   "execution_count": 39,
   "metadata": {},
   "outputs": [
    {
     "name": "stdout",
     "output_type": "stream",
     "text": [
      "Testing set Mean Abs Error:  1.31\n",
      "Testing set Mean Sqr Error:  4.92\n"
     ]
    }
   ],
   "source": [
    "# test the model\n",
    "loss, mae, mse = model.evaluate(normed_test_dataset, test_labels, verbose=0)\n",
    "print(\"Testing set Mean Abs Error: {:5.2f}\".format(mae))\n",
    "print(\"Testing set Mean Sqr Error: {:5.2f}\".format(mse))"
   ]
  },
  {
   "cell_type": "code",
   "execution_count": 40,
   "metadata": {},
   "outputs": [
    {
     "data": {
      "image/png": "[encoded data removed]",
      "text/plain": [
       "<Figure size 432x288 with 1 Axes>"
      ]
     },
     "metadata": {
      "needs_background": "light"
     },
     "output_type": "display_data"
    }
   ],
   "source": [
    "# make some predictions\n",
    "\n",
    "test_predictions = model.predict(normed_test_dataset)\n",
    "# print('type of test_label: ' + str(type(test_labels)))\n",
    "# print('type of test_pred: ' + str(type(test_predictions)))\n",
    "# test_label is a dataframe so we need predicions to also be a dataframe\n",
    "test_pred = pd.DataFrame(test_predictions, columns=['Proportional', 'Integral', 'Derivative'])\n",
    "\n",
    "test_labels_p = test_labels['Proportional']\n",
    "test_pred_p = test_pred['Proportional']\n",
    "test_labels_i = test_labels['Integral']\n",
    "test_pred_i = test_pred['Integral']\n",
    "test_labels_d = test_labels['Derivative']\n",
    "test_pred_d = test_pred['Derivative']\n",
    "plt.scatter(test_labels_p, test_pred_p)\n",
    "plt.xlabel('True Values')\n",
    "plt.ylabel('Predictions')\n",
    "plt.axis('equal')\n",
    "plt.axis('square')\n",
    "plt.scatter(test_labels_i, test_pred_i)\n",
    "plt.xlabel('True Values')\n",
    "plt.ylabel('Predictions')\n",
    "plt.axis('equal')\n",
    "plt.axis('square')\n",
    "plt.scatter(test_labels_d, test_pred_d)\n",
    "plt.xlabel('True Values')\n",
    "plt.ylabel('Predictions')\n",
    "plt.axis('equal')\n",
    "plt.axis('square')\n",
    "plt.legend(['Proportional','Integral', 'Derivative'])\n",
    "# plt.xlim([0,plt.xlim()[1]])\n",
    "# plt.ylim([0,plt.ylim()[1]])\n",
    "# straight line if you would like to \n",
    "_ = plt.plot([-100, 100], [-100, 100])"
   ]
  },
  {
   "cell_type": "code",
   "execution_count": 41,
   "metadata": {},
   "outputs": [
    {
     "data": {
      "image/png": "[encoded data removed]",
      "text/plain": [
       "<Figure size 432x288 with 1 Axes>"
      ]
     },
     "metadata": {
      "needs_background": "light"
     },
     "output_type": "display_data"
    }
   ],
   "source": [
    "error = test_labels - test_pred\n",
    "plt.hist(error, bins = 50)\n",
    "plt.xlabel(\"Prediction Error\")\n",
    "plt.legend(['Prop','Int','Der'])\n",
    "_ = plt.ylabel(\"Count\")"
   ]
  },
  {
   "cell_type": "code",
   "execution_count": 42,
   "metadata": {
    "scrolled": false
   },
   "outputs": [
    {
     "data": {
      "text/plain": [
       "Prop    12.065116\n",
       "Int      0.149383\n",
       "Der      0.355671\n",
       "dtype: float32"
      ]
     },
     "execution_count": 42,
     "metadata": {},
     "output_type": "execute_result"
    }
   ],
   "source": [
    "# try one prediction\n",
    "inpar = pd.DataFrame(norm([5, 1, 0.1]))\n",
    "prd = model.predict(inpar.transpose())\n",
    "sprd = pd.Series(prd.flatten(),index=['Prop','Int','Der'])\n",
    "sprd"
   ]
  },
  {
   "cell_type": "code",
   "execution_count": 44,
   "metadata": {},
   "outputs": [
    {
     "name": "stdout",
     "output_type": "stream",
     "text": [
      "INFO:tensorflow:Assets written to: D:\\Dev\\PyCharmProjects\\ISSlab1\\programs\\saved models\\version-ml-pid\\assets\n"
     ]
    }
   ],
   "source": [
    "# save the model\n",
    "import tempfile\n",
    "import os\n",
    "\n",
    "# export path\n",
    "# model_dir = tempfile.gettempdir()\n",
    "model_dir = 'D:\\\\Dev\\\\PyCharmProjects\\\\ISSlab1\\\\programs\\\\saved models'\n",
    "# model_dir returns 'C:\\\\Users\\\\Hubert\\\\AppData\\\\Local\\\\Temp'\n",
    "version = \"version-ml-pid\"\n",
    "export_path = os.path.join(model_dir, version)\n",
    "\n",
    "# saving\n",
    "tf.keras.models.save_model(\n",
    "    model,\n",
    "    export_path,\n",
    "    overwrite=True,\n",
    "    include_optimizer=True,\n",
    "    save_format=None,\n",
    "    signatures=None,\n",
    "    options=None\n",
    ")"
   ]
  },
  {
   "cell_type": "code",
   "execution_count": null,
   "metadata": {},
   "outputs": [],
   "source": []
  }
 ],
 "metadata": {
  "kernelspec": {
   "display_name": "Python 3",
   "language": "python",
   "name": "python3"
  },
  "language_info": {
   "codemirror_mode": {
    "name": "ipython",
    "version": 3
   },
   "file_extension": ".py",
   "mimetype": "text/x-python",
   "name": "python",
   "nbconvert_exporter": "python",
   "pygments_lexer": "ipython3",
   "version": "3.8.5"
  }
 },
 "nbformat": 4,
 "nbformat_minor": 4
}
